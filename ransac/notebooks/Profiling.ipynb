{
 "cells": [
  {
   "cell_type": "code",
   "execution_count": 2,
   "metadata": {},
   "outputs": [],
   "source": [
    "# Always reload modules before executing code.\n",
    "%load_ext autoreload\n",
    "%autoreload 2"
   ]
  },
  {
   "cell_type": "code",
   "execution_count": 3,
   "metadata": {},
   "outputs": [],
   "source": [
    "import time\n",
    "\n",
    "import numpy as np\n",
    "from matplotlib import pyplot as plt\n",
    "from sklearn import datasets\n",
    "\n",
    "import ransac"
   ]
  },
  {
   "cell_type": "code",
   "execution_count": 4,
   "metadata": {},
   "outputs": [],
   "source": [
    "# Set up RANSAC problem.\n",
    "n_samples = 1000\n",
    "n_outliers = 50\n",
    "\n",
    "X, y, coef = datasets.make_regression(\n",
    "    n_samples=n_samples, n_features=1, n_informative=1, noise=10,\n",
    "    coef=True, random_state=0)\n",
    "\n",
    "# Add outlier data\n",
    "np.random.seed(0)\n",
    "X[:n_outliers] = 3 + 0.5 * np.random.normal(size=(n_outliers, 1))\n",
    "y[:n_outliers] = -3 + 10 * np.random.normal(size=n_outliers)\n",
    "points = np.array(list(zip([x[0] for x in X], y)))"
   ]
  },
  {
   "cell_type": "code",
   "execution_count": 5,
   "metadata": {},
   "outputs": [
    {
     "name": "stdout",
     "output_type": "stream",
     "text": [
      "RANSAC ran in 0.05 seconds\n",
      " \n",
      "*** Profile stats marshalled to file 'ransac.prof'. \n"
     ]
    }
   ],
   "source": [
    "%%prun -D ransac.prof\n",
    "\n",
    "# Run RANSAC.\n",
    "run_time = time.time()\n",
    "ransac_model = ransac.LeastSquaresModel()\n",
    "my_ransac = ransac.Ransac(ransac_model, 20, 50, 5000, 100, random_seed=0)\n",
    "ransac_results = my_ransac.run(points)\n",
    "run_time = time.time() - run_time\n",
    "print('RANSAC ran in %0.2f seconds' % run_time)"
   ]
  },
  {
   "cell_type": "code",
   "execution_count": 6,
   "metadata": {},
   "outputs": [],
   "source": [
    "# Set up XRANSAC problem.\n",
    "random_state = np.random.RandomState(1)\n",
    "n_samples = 500\n",
    "n_outliers = 30\n",
    "\n",
    "X, y, coef = datasets.make_regression(\n",
    "    n_samples=n_samples // 2, n_features=1, n_informative=1, noise=5,\n",
    "    coef=True, random_state=random_state)\n",
    "X2, y2, coef2 = datasets.make_regression(\n",
    "    n_samples=n_samples // 2, n_features=1, n_informative=1, noise=5,\n",
    "    coef=True, random_state=random_state)\n",
    "\n",
    "X = np.concatenate((X, X2))\n",
    "y = np.array([e + 200 for e in y])\n",
    "y = np.concatenate((y, y2))\n",
    "\n",
    "X[:n_outliers] = -3 + 0.5 * random_state.normal(size=(n_outliers, 1))\n",
    "y[:n_outliers] = -100 + 20 * random_state.normal(size=n_outliers)\n",
    "points = np.array(list(zip([x[0] for x in X], y)))"
   ]
  },
  {
   "cell_type": "code",
   "execution_count": 7,
   "metadata": {},
   "outputs": [
    {
     "name": "stdout",
     "output_type": "stream",
     "text": [
      "XRANSAC ran in 0.12 seconds\n",
      " \n",
      "*** Profile stats marshalled to file 'xransac.prof'. \n"
     ]
    }
   ],
   "source": [
    "%%prun -D xransac.prof\n",
    "\n",
    "# Run XRANSAC.\n",
    "ransac_model = ransac.LeastSquaresModel()\n",
    "my_ransac = ransac.XRansac(\n",
    "    ransac_model, 2, 50, 500, 50,\n",
    "    random_seed=0, residual_histogram_num_bins=200, min_prominence=5)\n",
    "run_time = time.time()\n",
    "ransac_results = my_ransac.run(points)\n",
    "run_time = time.time() - run_time\n",
    "print('XRANSAC ran in %0.2f seconds' % run_time)"
   ]
  },
  {
   "cell_type": "code",
   "execution_count": 9,
   "metadata": {},
   "outputs": [
    {
     "name": "stdout",
     "output_type": "stream",
     "text": [
      "J-linkage ran in 3.37 seconds\n",
      " \n",
      "*** Profile stats marshalled to file 'jlink3.prof'. \n"
     ]
    }
   ],
   "source": [
    "%%prun -D jlink.prof\n",
    "\n",
    "# Run J-linkage on same problem.\n",
    "model = ransac.LeastSquaresModel()\n",
    "jlink = ransac.JLinkage(\n",
    "    model, 2, 50, 500, 50, random_seed=0)\n",
    "run_time = time.time()\n",
    "jlink_results = jlink.run(points)\n",
    "run_time = time.time() - run_time\n",
    "print('J-linkage ran in %0.2f seconds' % run_time)"
   ]
  },
  {
   "cell_type": "code",
   "execution_count": null,
   "metadata": {},
   "outputs": [],
   "source": []
  }
 ],
 "metadata": {
  "kernelspec": {
   "display_name": "Python 3",
   "language": "python",
   "name": "python3"
  }
 },
 "nbformat": 4,
 "nbformat_minor": 2
}
